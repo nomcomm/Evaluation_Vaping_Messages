{
 "cells": [
  {
   "cell_type": "code",
   "execution_count": 1,
   "id": "a0f826a7",
   "metadata": {
    "scrolled": true
   },
   "outputs": [
    {
     "name": "stdout",
     "output_type": "stream",
     "text": [
      "Requirement already satisfied: vaderSentiment in /Users/suelim/anaconda3/lib/python3.10/site-packages (3.3.2)\r\n",
      "Requirement already satisfied: requests in /Users/suelim/anaconda3/lib/python3.10/site-packages (from vaderSentiment) (2.28.1)\r\n",
      "Requirement already satisfied: urllib3<1.27,>=1.21.1 in /Users/suelim/anaconda3/lib/python3.10/site-packages (from requests->vaderSentiment) (1.26.14)\r\n",
      "Requirement already satisfied: charset-normalizer<3,>=2 in /Users/suelim/anaconda3/lib/python3.10/site-packages (from requests->vaderSentiment) (2.0.4)\r\n",
      "Requirement already satisfied: certifi>=2017.4.17 in /Users/suelim/anaconda3/lib/python3.10/site-packages (from requests->vaderSentiment) (2022.12.7)\r\n",
      "Requirement already satisfied: idna<4,>=2.5 in /Users/suelim/anaconda3/lib/python3.10/site-packages (from requests->vaderSentiment) (3.4)\r\n"
     ]
    }
   ],
   "source": [
    "!pip install vaderSentiment"
   ]
  },
  {
   "cell_type": "code",
   "execution_count": 15,
   "id": "1305ce5f",
   "metadata": {},
   "outputs": [],
   "source": [
    "import matplotlib as mpl\n",
    "from vaderSentiment.vaderSentiment import SentimentIntensityAnalyzer\n",
    "import matplotlib.pyplot as plt\n",
    "import re, string, sys\n",
    "import pandas as pd\n",
    "import numpy as np\n",
    "%matplotlib inline\n",
    "import sys\n",
    "import seaborn as sns\n",
    "sns.set_theme(style=\"whitegrid\")\n",
    "from scipy import stats\n",
    "import numpy as np"
   ]
  },
  {
   "cell_type": "code",
   "execution_count": 3,
   "id": "adf3144b",
   "metadata": {},
   "outputs": [
    {
     "name": "stdout",
     "output_type": "stream",
     "text": [
      "1384\n"
     ]
    },
    {
     "data": {
      "text/html": [
       "<div>\n",
       "<style scoped>\n",
       "    .dataframe tbody tr th:only-of-type {\n",
       "        vertical-align: middle;\n",
       "    }\n",
       "\n",
       "    .dataframe tbody tr th {\n",
       "        vertical-align: top;\n",
       "    }\n",
       "\n",
       "    .dataframe thead th {\n",
       "        text-align: right;\n",
       "    }\n",
       "</style>\n",
       "<table border=\"1\" class=\"dataframe\">\n",
       "  <thead>\n",
       "    <tr style=\"text-align: right;\">\n",
       "      <th></th>\n",
       "      <th>tweets</th>\n",
       "    </tr>\n",
       "  </thead>\n",
       "  <tbody>\n",
       "    <tr>\n",
       "      <th>0</th>\n",
       "      <td>It's #novapenovember - come visit to get free ...</td>\n",
       "    </tr>\n",
       "    <tr>\n",
       "      <th>1</th>\n",
       "      <td>just launched the and Education Resource Cente...</td>\n",
       "    </tr>\n",
       "    <tr>\n",
       "      <th>2</th>\n",
       "      <td>Just finished up a successful event at the gam...</td>\n",
       "    </tr>\n",
       "    <tr>\n",
       "      <th>3</th>\n",
       "      <td>\"The tobacco industrys marketing isnt toward t...</td>\n",
       "    </tr>\n",
       "    <tr>\n",
       "      <th>4</th>\n",
       "      <td>\"These products are ever-changing and easily h...</td>\n",
       "    </tr>\n",
       "  </tbody>\n",
       "</table>\n",
       "</div>"
      ],
      "text/plain": [
       "                                              tweets\n",
       "0  It's #novapenovember - come visit to get free ...\n",
       "1  just launched the and Education Resource Cente...\n",
       "2  Just finished up a successful event at the gam...\n",
       "3  \"The tobacco industrys marketing isnt toward t...\n",
       "4  \"These products are ever-changing and easily h..."
      ]
     },
     "execution_count": 3,
     "metadata": {},
     "output_type": "execute_result"
    }
   ],
   "source": [
    "#read all human generated messages\n",
    "humanmsgfile = '../../../data/00_Scraped_messages/vaping_tweets_cleaned_CTA.csv'\n",
    "humanmsg_df  = pd.read_csv(humanmsgfile)\n",
    "print(len(humanmsg_df))\n",
    "humanmsg_df.head()"
   ]
  },
  {
   "cell_type": "code",
   "execution_count": 4,
   "id": "3c97dece",
   "metadata": {},
   "outputs": [
    {
     "name": "stdout",
     "output_type": "stream",
     "text": [
      "500\n"
     ]
    },
    {
     "data": {
      "text/html": [
       "<div>\n",
       "<style scoped>\n",
       "    .dataframe tbody tr th:only-of-type {\n",
       "        vertical-align: middle;\n",
       "    }\n",
       "\n",
       "    .dataframe tbody tr th {\n",
       "        vertical-align: top;\n",
       "    }\n",
       "\n",
       "    .dataframe thead th {\n",
       "        text-align: right;\n",
       "    }\n",
       "</style>\n",
       "<table border=\"1\" class=\"dataframe\">\n",
       "  <thead>\n",
       "    <tr style=\"text-align: right;\">\n",
       "      <th></th>\n",
       "      <th>tweets</th>\n",
       "    </tr>\n",
       "  </thead>\n",
       "  <tbody>\n",
       "    <tr>\n",
       "      <th>0</th>\n",
       "      <td>is usually a chemical compound that causes an ...</td>\n",
       "    </tr>\n",
       "    <tr>\n",
       "      <th>1</th>\n",
       "      <td>can be an addictive substance, and there is a ...</td>\n",
       "    </tr>\n",
       "    <tr>\n",
       "      <th>2</th>\n",
       "      <td>is a highly addictive substance, and it can be...</td>\n",
       "    </tr>\n",
       "    <tr>\n",
       "      <th>3</th>\n",
       "      <td>is an addictive drug and could trigger the ver...</td>\n",
       "    </tr>\n",
       "    <tr>\n",
       "      <th>4</th>\n",
       "      <td>is thought to be a more harmful chemical than ...</td>\n",
       "    </tr>\n",
       "  </tbody>\n",
       "</table>\n",
       "</div>"
      ],
      "text/plain": [
       "                                              tweets\n",
       "0  is usually a chemical compound that causes an ...\n",
       "1  can be an addictive substance, and there is a ...\n",
       "2  is a highly addictive substance, and it can be...\n",
       "3  is an addictive drug and could trigger the ver...\n",
       "4  is thought to be a more harmful chemical than ..."
      ]
     },
     "execution_count": 4,
     "metadata": {},
     "output_type": "execute_result"
    }
   ],
   "source": [
    "#read all generated messages\n",
    "bloomgenmsgfile_np = '../../../data/01_AI_generated_messages/Total AI-generated messages_no prompt.csv'\n",
    "bloomgenmsgfile_np_df  = pd.read_csv(bloomgenmsgfile_np)\n",
    "print(len(bloomgenmsgfile_np_df))\n",
    "bloomgenmsgfile_np_df.head()"
   ]
  },
  {
   "cell_type": "code",
   "execution_count": 5,
   "id": "f792eba9",
   "metadata": {},
   "outputs": [],
   "source": [
    "analyzer = SentimentIntensityAnalyzer()\n",
    "\n",
    "human_sentiment = []\n",
    "for sentence in humanmsg_df.tweets:\n",
    "    vs = analyzer.polarity_scores(sentence)\n",
    "    #print(\"{:-<65} {}\".format(sentence, str(vs)))\n",
    "    human_sentiment.append(vs['compound'])\n",
    "    \n",
    "    \n",
    "bloom_sentiment = []\n",
    "for sentence in bloomgenmsgfile_np_df.tweets:\n",
    "    vs = analyzer.polarity_scores(sentence)\n",
    "    bloom_sentiment.append(vs['compound'])"
   ]
  },
  {
   "cell_type": "code",
   "execution_count": 20,
   "id": "88b5a6ca",
   "metadata": {},
   "outputs": [
    {
     "name": "stdout",
     "output_type": "stream",
     "text": [
      "0.08677781791907514\n",
      "0.5231115149497133\n",
      "-0.2003836\n",
      "0.5506013540948115\n",
      "Ttest_indResult(statistic=10.367761910944571, pvalue=1.5677504639653157e-24)\n"
     ]
    },
    {
     "data": {
      "image/png": "[encoded data removed]",
      "text/plain": [
       "<Figure size 640x480 with 1 Axes>"
      ]
     },
     "metadata": {},
     "output_type": "display_data"
    }
   ],
   "source": [
    "plt.hist(human_sentiment)\n",
    "plt.hist(bloom_sentiment)\n",
    "plt.title('Sentiment of Bloom Generated Messages vs. Tweets')\n",
    "plt.xlabel('Sentiment Score')\n",
    "plt.ylabel('Count')\n",
    "plt.grid(False)\n",
    "plt.legend(['Tweet', 'Bloom-Generated'])\n",
    "\n",
    "print(np.mean(human_sentiment))\n",
    "print(np.std(human_sentiment))\n",
    "\n",
    "print(np.mean(bloom_sentiment))\n",
    "print(np.std(bloom_sentiment))\n",
    "\n",
    "print(stats.ttest_ind(human_sentiment, bloom_sentiment))"
   ]
  },
  {
   "cell_type": "code",
   "execution_count": 8,
   "id": "7fa83b4c",
   "metadata": {},
   "outputs": [
    {
     "name": "stdout",
     "output_type": "stream",
     "text": [
      "15\n"
     ]
    },
    {
     "data": {
      "text/html": [
       "<div>\n",
       "<style scoped>\n",
       "    .dataframe tbody tr th:only-of-type {\n",
       "        vertical-align: middle;\n",
       "    }\n",
       "\n",
       "    .dataframe tbody tr th {\n",
       "        vertical-align: top;\n",
       "    }\n",
       "\n",
       "    .dataframe thead th {\n",
       "        text-align: right;\n",
       "    }\n",
       "</style>\n",
       "<table border=\"1\" class=\"dataframe\">\n",
       "  <thead>\n",
       "    <tr style=\"text-align: right;\">\n",
       "      <th></th>\n",
       "      <th>tweets</th>\n",
       "    </tr>\n",
       "  </thead>\n",
       "  <tbody>\n",
       "    <tr>\n",
       "      <th>0</th>\n",
       "      <td>Nicotine in vapes can disrupt neurotransmitter...</td>\n",
       "    </tr>\n",
       "    <tr>\n",
       "      <th>1</th>\n",
       "      <td>Vaping is risky. E-cigarettes are highly addic...</td>\n",
       "    </tr>\n",
       "    <tr>\n",
       "      <th>2</th>\n",
       "      <td>Its so freeing and fulfilling once you stop cr...</td>\n",
       "    </tr>\n",
       "    <tr>\n",
       "      <th>3</th>\n",
       "      <td>Vapes and e-cigarettes increase your risk of a...</td>\n",
       "    </tr>\n",
       "    <tr>\n",
       "      <th>4</th>\n",
       "      <td>Nicotine is highly addictive, and comes in man...</td>\n",
       "    </tr>\n",
       "  </tbody>\n",
       "</table>\n",
       "</div>"
      ],
      "text/plain": [
       "                                              tweets\n",
       "0  Nicotine in vapes can disrupt neurotransmitter...\n",
       "1  Vaping is risky. E-cigarettes are highly addic...\n",
       "2  Its so freeing and fulfilling once you stop cr...\n",
       "3  Vapes and e-cigarettes increase your risk of a...\n",
       "4  Nicotine is highly addictive, and comes in man..."
      ]
     },
     "execution_count": 8,
     "metadata": {},
     "output_type": "execute_result"
    }
   ],
   "source": [
    "#read selected human generated messages\n",
    "sel_humanmsgfile = '../../../data/00_Scraped_messages/Selected human-generated tweets.csv'\n",
    "sel_humanmsgfile_df  = pd.read_csv(sel_humanmsgfile)\n",
    "print(len(sel_humanmsgfile_df))\n",
    "sel_humanmsgfile_df.head()"
   ]
  },
  {
   "cell_type": "code",
   "execution_count": 9,
   "id": "bfd68d44",
   "metadata": {},
   "outputs": [
    {
     "name": "stdout",
     "output_type": "stream",
     "text": [
      "15\n"
     ]
    },
    {
     "data": {
      "text/html": [
       "<div>\n",
       "<style scoped>\n",
       "    .dataframe tbody tr th:only-of-type {\n",
       "        vertical-align: middle;\n",
       "    }\n",
       "\n",
       "    .dataframe tbody tr th {\n",
       "        vertical-align: top;\n",
       "    }\n",
       "\n",
       "    .dataframe thead th {\n",
       "        text-align: right;\n",
       "    }\n",
       "</style>\n",
       "<table border=\"1\" class=\"dataframe\">\n",
       "  <thead>\n",
       "    <tr style=\"text-align: right;\">\n",
       "      <th></th>\n",
       "      <th>tweets</th>\n",
       "    </tr>\n",
       "  </thead>\n",
       "  <tbody>\n",
       "    <tr>\n",
       "      <th>0</th>\n",
       "      <td>a very dangerous chemical, but it's still lega...</td>\n",
       "    </tr>\n",
       "    <tr>\n",
       "      <th>1</th>\n",
       "      <td>far more potent than in cigarettes, which is w...</td>\n",
       "    </tr>\n",
       "    <tr>\n",
       "      <th>2</th>\n",
       "      <td>a highly addictive substance. Nicotine is the ...</td>\n",
       "    </tr>\n",
       "    <tr>\n",
       "      <th>3</th>\n",
       "      <td>a mixture of nicotine, propylene glycol, glyce...</td>\n",
       "    </tr>\n",
       "    <tr>\n",
       "      <th>4</th>\n",
       "      <td>chemicals that can harm the lungs. These chemi...</td>\n",
       "    </tr>\n",
       "  </tbody>\n",
       "</table>\n",
       "</div>"
      ],
      "text/plain": [
       "                                              tweets\n",
       "0  a very dangerous chemical, but it's still lega...\n",
       "1  far more potent than in cigarettes, which is w...\n",
       "2  a highly addictive substance. Nicotine is the ...\n",
       "3  a mixture of nicotine, propylene glycol, glyce...\n",
       "4  chemicals that can harm the lungs. These chemi..."
      ]
     },
     "execution_count": 9,
     "metadata": {},
     "output_type": "execute_result"
    }
   ],
   "source": [
    "#read selected generated messages\n",
    "sel_bloomgenmsgfile_np = '../../../data/01_AI_generated_messages/Selected AI-generated messages_no prompt.csv'\n",
    "sel_bloomgenmsgfile_np_df  = pd.read_csv(sel_bloomgenmsgfile_np)\n",
    "print(len(sel_bloomgenmsgfile_np_df))\n",
    "sel_bloomgenmsgfile_np_df.head()"
   ]
  },
  {
   "cell_type": "code",
   "execution_count": 10,
   "id": "1c038b7c",
   "metadata": {},
   "outputs": [],
   "source": [
    "analyzer = SentimentIntensityAnalyzer()\n",
    "\n",
    "human_sentiment2 = []\n",
    "for sentence in sel_humanmsgfile_df.tweets:\n",
    "    vs = analyzer.polarity_scores(sentence)\n",
    "    #print(\"{:-<65} {}\".format(sentence, str(vs)))\n",
    "    human_sentiment2.append(vs['compound'])\n",
    "    \n",
    "    \n",
    "bloom_sentiment2 = []\n",
    "for sentence in sel_bloomgenmsgfile_np_df.tweets:\n",
    "    vs = analyzer.polarity_scores(sentence)\n",
    "    bloom_sentiment2.append(vs['compound'])"
   ]
  },
  {
   "cell_type": "code",
   "execution_count": 11,
   "id": "2e7076af",
   "metadata": {
    "scrolled": true
   },
   "outputs": [
    {
     "data": {
      "text/html": [
       "<div>\n",
       "<style scoped>\n",
       "    .dataframe tbody tr th:only-of-type {\n",
       "        vertical-align: middle;\n",
       "    }\n",
       "\n",
       "    .dataframe tbody tr th {\n",
       "        vertical-align: top;\n",
       "    }\n",
       "\n",
       "    .dataframe thead th {\n",
       "        text-align: right;\n",
       "    }\n",
       "</style>\n",
       "<table border=\"1\" class=\"dataframe\">\n",
       "  <thead>\n",
       "    <tr style=\"text-align: right;\">\n",
       "      <th></th>\n",
       "      <th>human_sentiment</th>\n",
       "      <th>ai_sentiment</th>\n",
       "    </tr>\n",
       "  </thead>\n",
       "  <tbody>\n",
       "    <tr>\n",
       "      <th>0</th>\n",
       "      <td>0.0000</td>\n",
       "      <td>-0.7874</td>\n",
       "    </tr>\n",
       "    <tr>\n",
       "      <th>1</th>\n",
       "      <td>-0.8860</td>\n",
       "      <td>0.1695</td>\n",
       "    </tr>\n",
       "    <tr>\n",
       "      <th>2</th>\n",
       "      <td>0.8518</td>\n",
       "      <td>0.0000</td>\n",
       "    </tr>\n",
       "    <tr>\n",
       "      <th>3</th>\n",
       "      <td>0.0516</td>\n",
       "      <td>0.0000</td>\n",
       "    </tr>\n",
       "    <tr>\n",
       "      <th>4</th>\n",
       "      <td>-0.5256</td>\n",
       "      <td>-0.8360</td>\n",
       "    </tr>\n",
       "  </tbody>\n",
       "</table>\n",
       "</div>"
      ],
      "text/plain": [
       "   human_sentiment  ai_sentiment\n",
       "0           0.0000       -0.7874\n",
       "1          -0.8860        0.1695\n",
       "2           0.8518        0.0000\n",
       "3           0.0516        0.0000\n",
       "4          -0.5256       -0.8360"
      ]
     },
     "execution_count": 11,
     "metadata": {},
     "output_type": "execute_result"
    }
   ],
   "source": [
    "df = pd.DataFrame([human_sentiment2, bloom_sentiment2]).T\n",
    "df.columns = ['human_sentiment', 'ai_sentiment']\n",
    "df.head()"
   ]
  },
  {
   "cell_type": "code",
   "execution_count": 12,
   "id": "0a4b4b37",
   "metadata": {
    "scrolled": true
   },
   "outputs": [],
   "source": [
    "df.to_csv('sentiment.csv')"
   ]
  },
  {
   "cell_type": "code",
   "execution_count": 13,
   "id": "4fa613bf",
   "metadata": {},
   "outputs": [
    {
     "data": {
      "text/plain": [
       "'/Users/suelim/Documents/Research/Evaluation_Vaping_Messages/scripts/02_computational_analyses/04_Sentiment'"
      ]
     },
     "execution_count": 13,
     "metadata": {},
     "output_type": "execute_result"
    }
   ],
   "source": [
    "import os\n",
    "os.getcwd()"
   ]
  },
  {
   "cell_type": "code",
   "execution_count": 17,
   "id": "7de1ae3d",
   "metadata": {
    "scrolled": true
   },
   "outputs": [
    {
     "data": {
      "text/html": [
       "<div>\n",
       "<style scoped>\n",
       "    .dataframe tbody tr th:only-of-type {\n",
       "        vertical-align: middle;\n",
       "    }\n",
       "\n",
       "    .dataframe tbody tr th {\n",
       "        vertical-align: top;\n",
       "    }\n",
       "\n",
       "    .dataframe thead th {\n",
       "        text-align: right;\n",
       "    }\n",
       "</style>\n",
       "<table border=\"1\" class=\"dataframe\">\n",
       "  <thead>\n",
       "    <tr style=\"text-align: right;\">\n",
       "      <th></th>\n",
       "      <th>Unnamed: 0</th>\n",
       "      <th>human_ease</th>\n",
       "      <th>ai_ease</th>\n",
       "    </tr>\n",
       "  </thead>\n",
       "  <tbody>\n",
       "    <tr>\n",
       "      <th>0</th>\n",
       "      <td>0</td>\n",
       "      <td>63.486154</td>\n",
       "      <td>75.466786</td>\n",
       "    </tr>\n",
       "    <tr>\n",
       "      <th>1</th>\n",
       "      <td>1</td>\n",
       "      <td>84.205000</td>\n",
       "      <td>83.853571</td>\n",
       "    </tr>\n",
       "    <tr>\n",
       "      <th>2</th>\n",
       "      <td>2</td>\n",
       "      <td>91.567807</td>\n",
       "      <td>78.670769</td>\n",
       "    </tr>\n",
       "    <tr>\n",
       "      <th>3</th>\n",
       "      <td>3</td>\n",
       "      <td>56.605714</td>\n",
       "      <td>39.624615</td>\n",
       "    </tr>\n",
       "    <tr>\n",
       "      <th>4</th>\n",
       "      <td>4</td>\n",
       "      <td>50.610000</td>\n",
       "      <td>72.163077</td>\n",
       "    </tr>\n",
       "  </tbody>\n",
       "</table>\n",
       "</div>"
      ],
      "text/plain": [
       "   Unnamed: 0  human_ease    ai_ease\n",
       "0           0   63.486154  75.466786\n",
       "1           1   84.205000  83.853571\n",
       "2           2   91.567807  78.670769\n",
       "3           3   56.605714  39.624615\n",
       "4           4   50.610000  72.163077"
      ]
     },
     "execution_count": 17,
     "metadata": {},
     "output_type": "execute_result"
    }
   ],
   "source": [
    "df2 = pd.read_csv('../03_TextCharacteristics/ease.csv')\n",
    "df2.head()"
   ]
  },
  {
   "cell_type": "markdown",
   "id": "53e271a2",
   "metadata": {},
   "source": [
    "### combine dfs (sentiment and ease) and plot "
   ]
  },
  {
   "cell_type": "code",
   "execution_count": 31,
   "id": "a5dee613",
   "metadata": {},
   "outputs": [
    {
     "name": "stderr",
     "output_type": "stream",
     "text": [
      "/var/folders/74/d4n5j0wd00v7rzjzndfvs2g80000gn/T/ipykernel_21322/3431774774.py:11: FutureWarning: The frame.append method is deprecated and will be removed from pandas in a future version. Use pandas.concat instead.\n",
      "  df_sentiment      = dfh.append(dfa)\n",
      "/var/folders/74/d4n5j0wd00v7rzjzndfvs2g80000gn/T/ipykernel_21322/3431774774.py:25: FutureWarning: The frame.append method is deprecated and will be removed from pandas in a future version. Use pandas.concat instead.\n",
      "  df_ease      = dfh.append(dfa)\n",
      "/var/folders/74/d4n5j0wd00v7rzjzndfvs2g80000gn/T/ipykernel_21322/3431774774.py:29: FutureWarning: The frame.append method is deprecated and will be removed from pandas in a future version. Use pandas.concat instead.\n",
      "  df_all = df_sentiment.append(df_ease)\n"
     ]
    },
    {
     "data": {
      "text/html": [
       "<div>\n",
       "<style scoped>\n",
       "    .dataframe tbody tr th:only-of-type {\n",
       "        vertical-align: middle;\n",
       "    }\n",
       "\n",
       "    .dataframe tbody tr th {\n",
       "        vertical-align: top;\n",
       "    }\n",
       "\n",
       "    .dataframe thead th {\n",
       "        text-align: right;\n",
       "    }\n",
       "</style>\n",
       "<table border=\"1\" class=\"dataframe\">\n",
       "  <thead>\n",
       "    <tr style=\"text-align: right;\">\n",
       "      <th></th>\n",
       "      <th>rating</th>\n",
       "      <th>type</th>\n",
       "      <th>question</th>\n",
       "    </tr>\n",
       "  </thead>\n",
       "  <tbody>\n",
       "    <tr>\n",
       "      <th>0</th>\n",
       "      <td>0.0000</td>\n",
       "      <td>Human</td>\n",
       "      <td>Sentiment</td>\n",
       "    </tr>\n",
       "    <tr>\n",
       "      <th>1</th>\n",
       "      <td>-0.8860</td>\n",
       "      <td>Human</td>\n",
       "      <td>Sentiment</td>\n",
       "    </tr>\n",
       "    <tr>\n",
       "      <th>2</th>\n",
       "      <td>0.8518</td>\n",
       "      <td>Human</td>\n",
       "      <td>Sentiment</td>\n",
       "    </tr>\n",
       "    <tr>\n",
       "      <th>3</th>\n",
       "      <td>0.0516</td>\n",
       "      <td>Human</td>\n",
       "      <td>Sentiment</td>\n",
       "    </tr>\n",
       "    <tr>\n",
       "      <th>4</th>\n",
       "      <td>-0.5256</td>\n",
       "      <td>Human</td>\n",
       "      <td>Sentiment</td>\n",
       "    </tr>\n",
       "  </tbody>\n",
       "</table>\n",
       "</div>"
      ],
      "text/plain": [
       "   rating   type   question\n",
       "0  0.0000  Human  Sentiment\n",
       "1 -0.8860  Human  Sentiment\n",
       "2  0.8518  Human  Sentiment\n",
       "3  0.0516  Human  Sentiment\n",
       "4 -0.5256  Human  Sentiment"
      ]
     },
     "execution_count": 31,
     "metadata": {},
     "output_type": "execute_result"
    }
   ],
   "source": [
    "dfh             = pd.DataFrame()\n",
    "dfh['rating']   = human_sentiment2\n",
    "dfh['type']     = 'Human'\n",
    "dfh['question'] = 'Sentiment'\n",
    "\n",
    "dfa             = pd.DataFrame()\n",
    "dfa['rating']   = bloom_sentiment2\n",
    "dfa['type']     = 'AI'\n",
    "dfa['question'] = 'Sentiment'\n",
    "\n",
    "df_sentiment      = dfh.append(dfa)\n",
    "\n",
    "####\n",
    "\n",
    "dfh             = pd.DataFrame()\n",
    "dfh['rating']   = df2.human_ease.values\n",
    "dfh['type']     = 'Human'\n",
    "dfh['question'] = 'Reading Ease'\n",
    "\n",
    "dfa             = pd.DataFrame()\n",
    "dfa['rating']   = df2.ai_ease.values\n",
    "dfa['type']     = 'AI'\n",
    "dfa['question'] = 'Reading Ease'\n",
    "\n",
    "df_ease      = dfh.append(dfa)\n",
    "\n",
    "###\n",
    "\n",
    "df_all = df_sentiment.append(df_ease)\n",
    "df_all.head()"
   ]
  },
  {
   "cell_type": "code",
   "execution_count": 30,
   "id": "f809220a",
   "metadata": {},
   "outputs": [],
   "source": [
    "df_all.to_csv('sentiment_ease.csv')"
   ]
  },
  {
   "cell_type": "code",
   "execution_count": 27,
   "id": "37e2170e",
   "metadata": {
    "scrolled": false
   },
   "outputs": [
    {
     "data": {
      "image/png": "[encoded data removed]",
      "text/plain": [
       "<Figure size 400x600 with 1 Axes>"
      ]
     },
     "metadata": {},
     "output_type": "display_data"
    }
   ],
   "source": [
    "import seaborn as sns\n",
    "sns.set_style(\"ticks\")\n",
    "\n",
    "\n",
    "plt.figure(figsize = (4,6))\n",
    "\n",
    "ax = sns.violinplot(data=df_sentiment, x=\"question\", y=\"rating\", hue=\"type\", \n",
    "               split=True, inner=\"quart\", linewidth=1,\n",
    "               palette={\"Human\": \"r\", \"AI\": \"b\"});\n",
    "for violin, alpha in zip(ax.collections[::], [0.3,0.3, 0.3, 0.3]):\n",
    "    violin.set_alpha(alpha)\n",
    "\n",
    "sns.swarmplot(data=df_sentiment, \n",
    "              x=\"question\", \n",
    "              y=\"rating\", \n",
    "              hue=\"type\",\n",
    "              palette={\"Human\": \"r\", \"AI\": \"b\"});\n",
    "\n",
    "#plt.legend(bbox_to_anchor=(1.0, 1), borderaxespad=0);\n",
    "#plt.legend(loc = 2);\n",
    "plt.legend([],[], frameon=False)\n",
    "plt.ylim(-2,2);\n",
    "\n",
    "sns.despine(offset= 10, trim=True);\n",
    "#plt.yticks(np.arange(1,6))\n",
    "\n"
   ]
  },
  {
   "cell_type": "code",
   "execution_count": 36,
   "id": "9aad0a9b",
   "metadata": {},
   "outputs": [
    {
     "data": {
      "image/png": "[encoded data removed]",
      "text/plain": [
       "<Figure size 400x600 with 1 Axes>"
      ]
     },
     "metadata": {},
     "output_type": "display_data"
    }
   ],
   "source": [
    "import seaborn as sns\n",
    "sns.set_style(\"ticks\")\n",
    "\n",
    "\n",
    "plt.figure(figsize = (4,6))\n",
    "\n",
    "ax = sns.violinplot(data=df_ease, x=\"question\", y=\"rating\", hue=\"type\", \n",
    "               split=True, inner=\"quart\", linewidth=1,\n",
    "               palette={\"Human\": \"r\", \"AI\": \"b\"});\n",
    "for violin, alpha in zip(ax.collections[::], [0.3,0.3, 0.3, 0.3]):\n",
    "    violin.set_alpha(alpha)\n",
    "\n",
    "sns.swarmplot(data=df_ease, \n",
    "              x=\"question\", \n",
    "              y=\"rating\", \n",
    "              hue=\"type\",\n",
    "              palette={\"Human\": \"r\", \"AI\": \"b\"});\n",
    "\n",
    "#plt.legend(bbox_to_anchor=(1.0, 1), borderaxespad=0);\n",
    "#plt.legend(loc = 2);\n",
    "plt.legend([],[], frameon=False)\n",
    "plt.ylim(0,120);\n",
    "\n",
    "sns.despine(offset= 10, trim=True);\n",
    "#plt.yticks(np.arange(1,6))\n",
    "\n"
   ]
  }
 ],
 "metadata": {
  "kernelspec": {
   "display_name": "Python 3 (ipykernel)",
   "language": "python",
   "name": "python3"
  },
  "language_info": {
   "codemirror_mode": {
    "name": "ipython",
    "version": 3
   },
   "file_extension": ".py",
   "mimetype": "text/x-python",
   "name": "python",
   "nbconvert_exporter": "python",
   "pygments_lexer": "ipython3",
   "version": "3.10.9"
  }
 },
 "nbformat": 4,
 "nbformat_minor": 5
}
