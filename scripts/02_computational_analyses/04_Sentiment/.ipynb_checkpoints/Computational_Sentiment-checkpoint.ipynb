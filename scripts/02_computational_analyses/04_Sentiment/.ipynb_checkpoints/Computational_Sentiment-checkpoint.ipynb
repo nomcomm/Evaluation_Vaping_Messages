{
 "cells": [
  {
   "cell_type": "code",
   "execution_count": 1,
   "id": "a0f826a7",
   "metadata": {},
   "outputs": [],
   "source": [
    "#!pip install vaderSentiment"
   ]
  },
  {
   "cell_type": "code",
   "execution_count": 3,
   "id": "1305ce5f",
   "metadata": {},
   "outputs": [],
   "source": [
    "import matplotlib as mpl\n",
    "from vaderSentiment.vaderSentiment import SentimentIntensityAnalyzer\n",
    "import matplotlib.pyplot as plt\n",
    "import re, string, sys\n",
    "import pandas as pd\n",
    "import numpy as np\n",
    "%matplotlib inline\n",
    "import sys\n",
    "import seaborn as sns\n",
    "sns.set_theme(style=\"whitegrid\")\n",
    "from scipy import stats"
   ]
  },
  {
   "cell_type": "code",
   "execution_count": 4,
   "id": "adf3144b",
   "metadata": {},
   "outputs": [
    {
     "name": "stdout",
     "output_type": "stream",
     "text": [
      "30\n"
     ]
    },
    {
     "data": {
      "text/html": [
       "<div>\n",
       "<style scoped>\n",
       "    .dataframe tbody tr th:only-of-type {\n",
       "        vertical-align: middle;\n",
       "    }\n",
       "\n",
       "    .dataframe tbody tr th {\n",
       "        vertical-align: top;\n",
       "    }\n",
       "\n",
       "    .dataframe thead th {\n",
       "        text-align: right;\n",
       "    }\n",
       "</style>\n",
       "<table border=\"1\" class=\"dataframe\">\n",
       "  <thead>\n",
       "    <tr style=\"text-align: right;\">\n",
       "      <th></th>\n",
       "      <th>tweets</th>\n",
       "    </tr>\n",
       "  </thead>\n",
       "  <tbody>\n",
       "    <tr>\n",
       "      <th>0</th>\n",
       "      <td>This is fantastic news, very pleased that gove...</td>\n",
       "    </tr>\n",
       "    <tr>\n",
       "      <th>1</th>\n",
       "      <td>Dark green vegetables like broccoli and spinac...</td>\n",
       "    </tr>\n",
       "    <tr>\n",
       "      <th>2</th>\n",
       "      <td>The risk of neural tube defects is reduced if ...</td>\n",
       "    </tr>\n",
       "    <tr>\n",
       "      <th>3</th>\n",
       "      <td>Every woman needs #folicacid every day, whethe...</td>\n",
       "    </tr>\n",
       "    <tr>\n",
       "      <th>4</th>\n",
       "      <td>Most but not all neural tube defects can be ex...</td>\n",
       "    </tr>\n",
       "  </tbody>\n",
       "</table>\n",
       "</div>"
      ],
      "text/plain": [
       "                                              tweets\n",
       "0  This is fantastic news, very pleased that gove...\n",
       "1  Dark green vegetables like broccoli and spinac...\n",
       "2  The risk of neural tube defects is reduced if ...\n",
       "3  Every woman needs #folicacid every day, whethe...\n",
       "4  Most but not all neural tube defects can be ex..."
      ]
     },
     "execution_count": 4,
     "metadata": {},
     "output_type": "execute_result"
    }
   ],
   "source": [
    "#read 30 selected human generated messages\n",
    "selected_humanmsgfile = '../../../data/02_message_selection/Selected human messages.csv'\n",
    "selected_humanmsg_df  = pd.read_csv(selected_humanmsgfile)\n",
    "print(len(selected_humanmsg_df))\n",
    "selected_humanmsg_df.head()"
   ]
  },
  {
   "cell_type": "code",
   "execution_count": 5,
   "id": "3c97dece",
   "metadata": {},
   "outputs": [
    {
     "name": "stdout",
     "output_type": "stream",
     "text": [
      "30\n"
     ]
    },
    {
     "data": {
      "text/html": [
       "<div>\n",
       "<style scoped>\n",
       "    .dataframe tbody tr th:only-of-type {\n",
       "        vertical-align: middle;\n",
       "    }\n",
       "\n",
       "    .dataframe tbody tr th {\n",
       "        vertical-align: top;\n",
       "    }\n",
       "\n",
       "    .dataframe thead th {\n",
       "        text-align: right;\n",
       "    }\n",
       "</style>\n",
       "<table border=\"1\" class=\"dataframe\">\n",
       "  <thead>\n",
       "    <tr style=\"text-align: right;\">\n",
       "      <th></th>\n",
       "      <th>tweets</th>\n",
       "    </tr>\n",
       "  </thead>\n",
       "  <tbody>\n",
       "    <tr>\n",
       "      <th>0</th>\n",
       "      <td>it is essential to the formation of red blood ...</td>\n",
       "    </tr>\n",
       "    <tr>\n",
       "      <th>1</th>\n",
       "      <td>it can help prevent birth defects that affect ...</td>\n",
       "    </tr>\n",
       "    <tr>\n",
       "      <th>2</th>\n",
       "      <td>it helps to prevent neural tube defects (NTDs)...</td>\n",
       "    </tr>\n",
       "    <tr>\n",
       "      <th>3</th>\n",
       "      <td>it is essential for the synthesis of DNA and R...</td>\n",
       "    </tr>\n",
       "    <tr>\n",
       "      <th>4</th>\n",
       "      <td>Consuming folic acid is important because foli...</td>\n",
       "    </tr>\n",
       "  </tbody>\n",
       "</table>\n",
       "</div>"
      ],
      "text/plain": [
       "                                              tweets\n",
       "0  it is essential to the formation of red blood ...\n",
       "1  it can help prevent birth defects that affect ...\n",
       "2  it helps to prevent neural tube defects (NTDs)...\n",
       "3  it is essential for the synthesis of DNA and R...\n",
       "4  Consuming folic acid is important because foli..."
      ]
     },
     "execution_count": 5,
     "metadata": {},
     "output_type": "execute_result"
    }
   ],
   "source": [
    "#read 30 generated messages\n",
    "selected_bloomgenmsg = '../../../data/02_message_selection/Bloom_no_prompt.csv'\n",
    "selected_bloomgenmsg_df  = pd.read_csv(selected_bloomgenmsg)\n",
    "print(len(selected_bloomgenmsg_df))\n",
    "selected_bloomgenmsg_df.head()"
   ]
  },
  {
   "cell_type": "code",
   "execution_count": 6,
   "id": "f792eba9",
   "metadata": {},
   "outputs": [],
   "source": [
    "analyzer = SentimentIntensityAnalyzer()\n",
    "\n",
    "human_sentiment = []\n",
    "for sentence in selected_humanmsg_df.tweets:\n",
    "    vs = analyzer.polarity_scores(sentence)\n",
    "    #print(\"{:-<65} {}\".format(sentence, str(vs)))\n",
    "    human_sentiment.append(vs['compound'])\n",
    "    \n",
    "    \n",
    "bloom_sentiment = []\n",
    "for sentence in selected_bloomgenmsg_df.tweets:\n",
    "    vs = analyzer.polarity_scores(sentence)\n",
    "    bloom_sentiment.append(vs['compound'])"
   ]
  },
  {
   "cell_type": "code",
   "execution_count": 7,
   "id": "88b5a6ca",
   "metadata": {},
   "outputs": [
    {
     "name": "stdout",
     "output_type": "stream",
     "text": [
      "0.23117333333333334\n",
      "0.49863609638916256\n",
      "0.25261000000000006\n",
      "0.5307784235441377\n",
      "Ttest_indResult(statistic=-0.158514633685591, pvalue=0.874601932592032)\n"
     ]
    },
    {
     "data": {
      "image/png": "[encoded data removed]",
      "text/plain": [
       "<Figure size 432x288 with 1 Axes>"
      ]
     },
     "metadata": {},
     "output_type": "display_data"
    }
   ],
   "source": [
    "plt.hist(human_sentiment)\n",
    "plt.hist(bloom_sentiment)\n",
    "\n",
    "print(np.mean(human_sentiment))\n",
    "print(np.std(human_sentiment))\n",
    "\n",
    "print(np.mean(bloom_sentiment))\n",
    "print(np.std(bloom_sentiment))\n",
    "\n",
    "print(stats.ttest_ind(human_sentiment, bloom_sentiment))"
   ]
  },
  {
   "cell_type": "code",
   "execution_count": 8,
   "id": "2e7076af",
   "metadata": {},
   "outputs": [
    {
     "data": {
      "text/html": [
       "<div>\n",
       "<style scoped>\n",
       "    .dataframe tbody tr th:only-of-type {\n",
       "        vertical-align: middle;\n",
       "    }\n",
       "\n",
       "    .dataframe tbody tr th {\n",
       "        vertical-align: top;\n",
       "    }\n",
       "\n",
       "    .dataframe thead th {\n",
       "        text-align: right;\n",
       "    }\n",
       "</style>\n",
       "<table border=\"1\" class=\"dataframe\">\n",
       "  <thead>\n",
       "    <tr style=\"text-align: right;\">\n",
       "      <th></th>\n",
       "      <th>human_sentiment</th>\n",
       "      <th>ai_sentiment</th>\n",
       "    </tr>\n",
       "  </thead>\n",
       "  <tbody>\n",
       "    <tr>\n",
       "      <th>0</th>\n",
       "      <td>0.8588</td>\n",
       "      <td>-0.4019</td>\n",
       "    </tr>\n",
       "    <tr>\n",
       "      <th>1</th>\n",
       "      <td>0.6597</td>\n",
       "      <td>0.1531</td>\n",
       "    </tr>\n",
       "    <tr>\n",
       "      <th>2</th>\n",
       "      <td>-0.5859</td>\n",
       "      <td>0.8271</td>\n",
       "    </tr>\n",
       "    <tr>\n",
       "      <th>3</th>\n",
       "      <td>0.2023</td>\n",
       "      <td>0.5859</td>\n",
       "    </tr>\n",
       "    <tr>\n",
       "      <th>4</th>\n",
       "      <td>-0.7351</td>\n",
       "      <td>0.6597</td>\n",
       "    </tr>\n",
       "  </tbody>\n",
       "</table>\n",
       "</div>"
      ],
      "text/plain": [
       "   human_sentiment  ai_sentiment\n",
       "0           0.8588       -0.4019\n",
       "1           0.6597        0.1531\n",
       "2          -0.5859        0.8271\n",
       "3           0.2023        0.5859\n",
       "4          -0.7351        0.6597"
      ]
     },
     "execution_count": 8,
     "metadata": {},
     "output_type": "execute_result"
    }
   ],
   "source": [
    "df = pd.DataFrame(np.vstack((human_sentiment, bloom_sentiment)).T, columns = ['human_sentiment', 'ai_sentiment'])\n",
    "df.head()"
   ]
  },
  {
   "cell_type": "code",
   "execution_count": 9,
   "id": "0a4b4b37",
   "metadata": {},
   "outputs": [],
   "source": [
    "df.to_csv('sentiment.csv')"
   ]
  },
  {
   "cell_type": "code",
   "execution_count": 10,
   "id": "4fa613bf",
   "metadata": {},
   "outputs": [
    {
     "data": {
      "text/plain": [
       "'/Users/ralfschmaelzle/Documents/GITHUB/nomcomm/PAPERS_WORKING/message_engine2/scripts/02_computational_analyses/04_Sentiment'"
      ]
     },
     "execution_count": 10,
     "metadata": {},
     "output_type": "execute_result"
    }
   ],
   "source": [
    "import os\n",
    "os.getcwd()"
   ]
  },
  {
   "cell_type": "code",
   "execution_count": 11,
   "id": "7de1ae3d",
   "metadata": {},
   "outputs": [
    {
     "data": {
      "text/html": [
       "<div>\n",
       "<style scoped>\n",
       "    .dataframe tbody tr th:only-of-type {\n",
       "        vertical-align: middle;\n",
       "    }\n",
       "\n",
       "    .dataframe tbody tr th {\n",
       "        vertical-align: top;\n",
       "    }\n",
       "\n",
       "    .dataframe thead th {\n",
       "        text-align: right;\n",
       "    }\n",
       "</style>\n",
       "<table border=\"1\" class=\"dataframe\">\n",
       "  <thead>\n",
       "    <tr style=\"text-align: right;\">\n",
       "      <th></th>\n",
       "      <th>Unnamed: 0</th>\n",
       "      <th>human_ease</th>\n",
       "      <th>ai_ease</th>\n",
       "    </tr>\n",
       "  </thead>\n",
       "  <tbody>\n",
       "    <tr>\n",
       "      <th>0</th>\n",
       "      <td>0</td>\n",
       "      <td>64.710000</td>\n",
       "      <td>75.121176</td>\n",
       "    </tr>\n",
       "    <tr>\n",
       "      <th>1</th>\n",
       "      <td>1</td>\n",
       "      <td>87.406071</td>\n",
       "      <td>83.602358</td>\n",
       "    </tr>\n",
       "    <tr>\n",
       "      <th>2</th>\n",
       "      <td>2</td>\n",
       "      <td>61.450455</td>\n",
       "      <td>72.163077</td>\n",
       "    </tr>\n",
       "    <tr>\n",
       "      <th>3</th>\n",
       "      <td>3</td>\n",
       "      <td>66.338750</td>\n",
       "      <td>73.049643</td>\n",
       "    </tr>\n",
       "    <tr>\n",
       "      <th>4</th>\n",
       "      <td>4</td>\n",
       "      <td>97.702500</td>\n",
       "      <td>56.888654</td>\n",
       "    </tr>\n",
       "  </tbody>\n",
       "</table>\n",
       "</div>"
      ],
      "text/plain": [
       "   Unnamed: 0  human_ease    ai_ease\n",
       "0           0   64.710000  75.121176\n",
       "1           1   87.406071  83.602358\n",
       "2           2   61.450455  72.163077\n",
       "3           3   66.338750  73.049643\n",
       "4           4   97.702500  56.888654"
      ]
     },
     "execution_count": 11,
     "metadata": {},
     "output_type": "execute_result"
    }
   ],
   "source": [
    "df2 = pd.read_csv('../03_TextCharacteristics/ease.csv')\n",
    "df2.head()"
   ]
  },
  {
   "cell_type": "markdown",
   "id": "53e271a2",
   "metadata": {},
   "source": [
    "### combine dfs (sentiment and ease) and plot "
   ]
  },
  {
   "cell_type": "code",
   "execution_count": 12,
   "id": "a5dee613",
   "metadata": {},
   "outputs": [
    {
     "data": {
      "text/html": [
       "<div>\n",
       "<style scoped>\n",
       "    .dataframe tbody tr th:only-of-type {\n",
       "        vertical-align: middle;\n",
       "    }\n",
       "\n",
       "    .dataframe tbody tr th {\n",
       "        vertical-align: top;\n",
       "    }\n",
       "\n",
       "    .dataframe thead th {\n",
       "        text-align: right;\n",
       "    }\n",
       "</style>\n",
       "<table border=\"1\" class=\"dataframe\">\n",
       "  <thead>\n",
       "    <tr style=\"text-align: right;\">\n",
       "      <th></th>\n",
       "      <th>rating</th>\n",
       "      <th>type</th>\n",
       "      <th>question</th>\n",
       "    </tr>\n",
       "  </thead>\n",
       "  <tbody>\n",
       "    <tr>\n",
       "      <th>0</th>\n",
       "      <td>0.8588</td>\n",
       "      <td>Human</td>\n",
       "      <td>Sentiment</td>\n",
       "    </tr>\n",
       "    <tr>\n",
       "      <th>1</th>\n",
       "      <td>0.6597</td>\n",
       "      <td>Human</td>\n",
       "      <td>Sentiment</td>\n",
       "    </tr>\n",
       "    <tr>\n",
       "      <th>2</th>\n",
       "      <td>-0.5859</td>\n",
       "      <td>Human</td>\n",
       "      <td>Sentiment</td>\n",
       "    </tr>\n",
       "    <tr>\n",
       "      <th>3</th>\n",
       "      <td>0.2023</td>\n",
       "      <td>Human</td>\n",
       "      <td>Sentiment</td>\n",
       "    </tr>\n",
       "    <tr>\n",
       "      <th>4</th>\n",
       "      <td>-0.7351</td>\n",
       "      <td>Human</td>\n",
       "      <td>Sentiment</td>\n",
       "    </tr>\n",
       "  </tbody>\n",
       "</table>\n",
       "</div>"
      ],
      "text/plain": [
       "   rating   type   question\n",
       "0  0.8588  Human  Sentiment\n",
       "1  0.6597  Human  Sentiment\n",
       "2 -0.5859  Human  Sentiment\n",
       "3  0.2023  Human  Sentiment\n",
       "4 -0.7351  Human  Sentiment"
      ]
     },
     "execution_count": 12,
     "metadata": {},
     "output_type": "execute_result"
    }
   ],
   "source": [
    "dfh             = pd.DataFrame()\n",
    "dfh['rating']   = human_sentiment\n",
    "dfh['type']     = 'Human'\n",
    "dfh['question'] = 'Sentiment'\n",
    "\n",
    "dfa             = pd.DataFrame()\n",
    "dfa['rating']   = bloom_sentiment\n",
    "dfa['type']     = 'AI'\n",
    "dfa['question'] = 'Sentiment'\n",
    "\n",
    "df_sentiment      = dfh.append(dfa)\n",
    "\n",
    "####\n",
    "\n",
    "dfh             = pd.DataFrame()\n",
    "dfh['rating']   = df2.human_ease.values\n",
    "dfh['type']     = 'Human'\n",
    "dfh['question'] = 'Reading Ease'\n",
    "\n",
    "dfa             = pd.DataFrame()\n",
    "dfa['rating']   = df2.ai_ease.values\n",
    "dfa['type']     = 'AI'\n",
    "dfa['question'] = 'Reading Ease'\n",
    "\n",
    "df_ease      = dfh.append(dfa)\n",
    "\n",
    "###\n",
    "\n",
    "df_all = df_sentiment.append(df_ease)\n",
    "df_all.head()"
   ]
  },
  {
   "cell_type": "code",
   "execution_count": 13,
   "id": "37e2170e",
   "metadata": {},
   "outputs": [
    {
     "data": {
      "image/png": "[encoded data removed]",
      "text/plain": [
       "<Figure size 288x432 with 1 Axes>"
      ]
     },
     "metadata": {},
     "output_type": "display_data"
    }
   ],
   "source": [
    "import seaborn as sns\n",
    "sns.set_style(\"ticks\")\n",
    "\n",
    "\n",
    "plt.figure(figsize = (4,6))\n",
    "\n",
    "ax = sns.violinplot(data=df_sentiment, x=\"question\", y=\"rating\", hue=\"type\", \n",
    "               split=True, inner=\"quart\", linewidth=1,\n",
    "               palette={\"Human\": \"r\", \"AI\": \"b\"});\n",
    "for violin, alpha in zip(ax.collections[::], [0.3,0.3, 0.3, 0.3]):\n",
    "    violin.set_alpha(alpha)\n",
    "\n",
    "sns.swarmplot(data=df_sentiment, \n",
    "              x=\"question\", \n",
    "              y=\"rating\", \n",
    "              hue=\"type\",\n",
    "              palette={\"Human\": \"r\", \"AI\": \"b\"});\n",
    "\n",
    "#plt.legend(bbox_to_anchor=(1.0, 1), borderaxespad=0);\n",
    "#plt.legend(loc = 2);\n",
    "plt.legend([],[], frameon=False)\n",
    "#plt.ylim(1,5);\n",
    "\n",
    "sns.despine(offset= 10, trim=True);\n",
    "#plt.yticks(np.arange(1,6))\n",
    "\n"
   ]
  },
  {
   "cell_type": "code",
   "execution_count": 14,
   "id": "1ed736d0",
   "metadata": {},
   "outputs": [
    {
     "data": {
      "image/png": "[encoded data removed]",
      "text/plain": [
       "<Figure size 288x432 with 1 Axes>"
      ]
     },
     "metadata": {},
     "output_type": "display_data"
    }
   ],
   "source": [
    "import seaborn as sns\n",
    "sns.set_style(\"ticks\")\n",
    "\n",
    "\n",
    "plt.figure(figsize = (4,6))\n",
    "\n",
    "ax = sns.violinplot(data=df_ease, x=\"question\", y=\"rating\", hue=\"type\", \n",
    "               split=True, inner=\"quart\", linewidth=1,\n",
    "               palette={\"Human\": \"r\", \"AI\": \"b\"});\n",
    "for violin, alpha in zip(ax.collections[::], [0.3,0.3, 0.3, 0.3]):\n",
    "    violin.set_alpha(alpha)\n",
    "\n",
    "sns.swarmplot(data=df_ease, \n",
    "              x=\"question\", \n",
    "              y=\"rating\", \n",
    "              hue=\"type\",\n",
    "              palette={\"Human\": \"r\", \"AI\": \"b\"});\n",
    "\n",
    "#plt.legend(bbox_to_anchor=(1.0, 1), borderaxespad=0);\n",
    "#plt.legend(loc = 2);\n",
    "plt.legend([],[], frameon=False)\n",
    "plt.ylim(-5,120);\n",
    "\n",
    "sns.despine(offset= 10, trim=True);\n",
    "#plt.yticks(np.arange(0,6))\n",
    "\n"
   ]
  },
  {
   "cell_type": "code",
   "execution_count": null,
   "id": "1707e0e5",
   "metadata": {},
   "outputs": [],
   "source": []
  }
 ],
 "metadata": {
  "kernelspec": {
   "display_name": "Python 3 (ipykernel)",
   "language": "python",
   "name": "python3"
  },
  "language_info": {
   "codemirror_mode": {
    "name": "ipython",
    "version": 3
   },
   "file_extension": ".py",
   "mimetype": "text/x-python",
   "name": "python",
   "nbconvert_exporter": "python",
   "pygments_lexer": "ipython3",
   "version": "3.8.8"
  }
 },
 "nbformat": 4,
 "nbformat_minor": 5
}
