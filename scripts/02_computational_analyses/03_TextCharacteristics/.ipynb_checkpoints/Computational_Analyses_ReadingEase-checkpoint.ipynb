{
 "cells": [
  {
   "cell_type": "markdown",
   "id": "737ae72e",
   "metadata": {},
   "source": [
    "## Supplementary Analyses\n",
    "\n",
    "\n",
    "### Import modules"
   ]
  },
  {
   "cell_type": "code",
   "execution_count": 1,
   "id": "0571c9c5",
   "metadata": {},
   "outputs": [],
   "source": [
    "#!python -m pip install wordcloud\n",
    "#!python -m pip install textacy\n",
    "import spacy\n",
    "import textacy\n",
    "from textacy.text_stats import TextStats"
   ]
  },
  {
   "cell_type": "code",
   "execution_count": 2,
   "id": "d654ea0d",
   "metadata": {},
   "outputs": [],
   "source": [
    "import matplotlib as mpl\n",
    "#from wordcloud import WordCloud, STOPWORDS\n",
    "from PIL import Image\n",
    "import itertools as it\n",
    "import matplotlib.pyplot as plt\n",
    "import re, string, sys\n",
    "import pandas as pd\n",
    "import numpy as np\n",
    "%matplotlib inline\n",
    "import seaborn as sns\n",
    "from subprocess import check_output\n",
    "import warnings\n",
    "import random\n",
    "import seaborn as sns\n",
    "sns.set_theme(style=\"whitegrid\")\n",
    "warnings.filterwarnings('ignore')\n",
    "import sys\n",
    "sys.path\n",
    "#import nilearn\n",
    "from scipy import stats"
   ]
  },
  {
   "cell_type": "code",
   "execution_count": 3,
   "id": "27382180",
   "metadata": {},
   "outputs": [
    {
     "name": "stdout",
     "output_type": "stream",
     "text": [
      "30\n"
     ]
    },
    {
     "data": {
      "text/html": [
       "<div>\n",
       "<style scoped>\n",
       "    .dataframe tbody tr th:only-of-type {\n",
       "        vertical-align: middle;\n",
       "    }\n",
       "\n",
       "    .dataframe tbody tr th {\n",
       "        vertical-align: top;\n",
       "    }\n",
       "\n",
       "    .dataframe thead th {\n",
       "        text-align: right;\n",
       "    }\n",
       "</style>\n",
       "<table border=\"1\" class=\"dataframe\">\n",
       "  <thead>\n",
       "    <tr style=\"text-align: right;\">\n",
       "      <th></th>\n",
       "      <th>tweets</th>\n",
       "    </tr>\n",
       "  </thead>\n",
       "  <tbody>\n",
       "    <tr>\n",
       "      <th>0</th>\n",
       "      <td>This is fantastic news, very pleased that gove...</td>\n",
       "    </tr>\n",
       "    <tr>\n",
       "      <th>1</th>\n",
       "      <td>Dark green vegetables like broccoli and spinac...</td>\n",
       "    </tr>\n",
       "    <tr>\n",
       "      <th>2</th>\n",
       "      <td>The risk of neural tube defects is reduced if ...</td>\n",
       "    </tr>\n",
       "    <tr>\n",
       "      <th>3</th>\n",
       "      <td>Every woman needs #folicacid every day, whethe...</td>\n",
       "    </tr>\n",
       "    <tr>\n",
       "      <th>4</th>\n",
       "      <td>Most but not all neural tube defects can be ex...</td>\n",
       "    </tr>\n",
       "  </tbody>\n",
       "</table>\n",
       "</div>"
      ],
      "text/plain": [
       "                                              tweets\n",
       "0  This is fantastic news, very pleased that gove...\n",
       "1  Dark green vegetables like broccoli and spinac...\n",
       "2  The risk of neural tube defects is reduced if ...\n",
       "3  Every woman needs #folicacid every day, whethe...\n",
       "4  Most but not all neural tube defects can be ex..."
      ]
     },
     "execution_count": 3,
     "metadata": {},
     "output_type": "execute_result"
    }
   ],
   "source": [
    "#read 30 selected human generated messages\n",
    "selected_humanmsgfile = '../../../data/02_message_selection/Selected human messages.csv'\n",
    "selected_humanmsg_df  = pd.read_csv(selected_humanmsgfile)\n",
    "print(len(selected_humanmsg_df))\n",
    "selected_humanmsg_df.head()"
   ]
  },
  {
   "cell_type": "code",
   "execution_count": 4,
   "id": "32e7052c",
   "metadata": {},
   "outputs": [
    {
     "name": "stdout",
     "output_type": "stream",
     "text": [
      "30\n"
     ]
    },
    {
     "data": {
      "text/html": [
       "<div>\n",
       "<style scoped>\n",
       "    .dataframe tbody tr th:only-of-type {\n",
       "        vertical-align: middle;\n",
       "    }\n",
       "\n",
       "    .dataframe tbody tr th {\n",
       "        vertical-align: top;\n",
       "    }\n",
       "\n",
       "    .dataframe thead th {\n",
       "        text-align: right;\n",
       "    }\n",
       "</style>\n",
       "<table border=\"1\" class=\"dataframe\">\n",
       "  <thead>\n",
       "    <tr style=\"text-align: right;\">\n",
       "      <th></th>\n",
       "      <th>tweets</th>\n",
       "    </tr>\n",
       "  </thead>\n",
       "  <tbody>\n",
       "    <tr>\n",
       "      <th>0</th>\n",
       "      <td>it is essential to the formation of red blood ...</td>\n",
       "    </tr>\n",
       "    <tr>\n",
       "      <th>1</th>\n",
       "      <td>it can help prevent birth defects that affect ...</td>\n",
       "    </tr>\n",
       "    <tr>\n",
       "      <th>2</th>\n",
       "      <td>it helps to prevent neural tube defects (NTDs)...</td>\n",
       "    </tr>\n",
       "    <tr>\n",
       "      <th>3</th>\n",
       "      <td>it is essential for the synthesis of DNA and R...</td>\n",
       "    </tr>\n",
       "    <tr>\n",
       "      <th>4</th>\n",
       "      <td>Consuming folic acid is important because foli...</td>\n",
       "    </tr>\n",
       "  </tbody>\n",
       "</table>\n",
       "</div>"
      ],
      "text/plain": [
       "                                              tweets\n",
       "0  it is essential to the formation of red blood ...\n",
       "1  it can help prevent birth defects that affect ...\n",
       "2  it helps to prevent neural tube defects (NTDs)...\n",
       "3  it is essential for the synthesis of DNA and R...\n",
       "4  Consuming folic acid is important because foli..."
      ]
     },
     "execution_count": 4,
     "metadata": {},
     "output_type": "execute_result"
    }
   ],
   "source": [
    "#read 30 generated messages\n",
    "selected_bloomgenmsg = '../../../data/02_message_selection/Bloom_no_prompt.csv'\n",
    "selected_bloomgenmsg_df  = pd.read_csv(selected_bloomgenmsg)\n",
    "print(len(selected_bloomgenmsg_df))\n",
    "selected_bloomgenmsg_df.head()"
   ]
  },
  {
   "cell_type": "code",
   "execution_count": 5,
   "id": "ea65928c",
   "metadata": {},
   "outputs": [
    {
     "name": "stdout",
     "output_type": "stream",
     "text": [
      "Object `readability_stats` not found.\n"
     ]
    }
   ],
   "source": [
    "readability_stats?"
   ]
  },
  {
   "cell_type": "code",
   "execution_count": 6,
   "id": "5886d511",
   "metadata": {},
   "outputs": [
    {
     "name": "stderr",
     "output_type": "stream",
     "text": [
      "/opt/anaconda3/lib/python3.8/site-packages/textacy/text_stats/api.py:89: DeprecationWarning: The `TextStats` class is deprecated as of v0.12. Instead, call the stats functions directly -- `text_stats.TextStats(doc).n_sents` => `text_stats.n_sents(doc)` --or set them as custom doc extensions and access them on the ``Doc`` -- `textacy.set_doc_extensions('text_stats'); doc._.n_sents` .\n",
      "  utils.deprecated(\n",
      "/opt/anaconda3/lib/python3.8/site-packages/textacy/text_stats/api.py:89: DeprecationWarning: The `TextStats` class is deprecated as of v0.12. Instead, call the stats functions directly -- `text_stats.TextStats(doc).n_sents` => `text_stats.n_sents(doc)` --or set them as custom doc extensions and access them on the ``Doc`` -- `textacy.set_doc_extensions('text_stats'); doc._.n_sents` .\n",
      "  utils.deprecated(\n",
      "/opt/anaconda3/lib/python3.8/site-packages/textacy/text_stats/api.py:89: DeprecationWarning: The `TextStats` class is deprecated as of v0.12. Instead, call the stats functions directly -- `text_stats.TextStats(doc).n_sents` => `text_stats.n_sents(doc)` --or set them as custom doc extensions and access them on the ``Doc`` -- `textacy.set_doc_extensions('text_stats'); doc._.n_sents` .\n",
      "  utils.deprecated(\n",
      "/opt/anaconda3/lib/python3.8/site-packages/textacy/text_stats/api.py:89: DeprecationWarning: The `TextStats` class is deprecated as of v0.12. Instead, call the stats functions directly -- `text_stats.TextStats(doc).n_sents` => `text_stats.n_sents(doc)` --or set them as custom doc extensions and access them on the ``Doc`` -- `textacy.set_doc_extensions('text_stats'); doc._.n_sents` .\n",
      "  utils.deprecated(\n",
      "/opt/anaconda3/lib/python3.8/site-packages/textacy/text_stats/api.py:89: DeprecationWarning: The `TextStats` class is deprecated as of v0.12. Instead, call the stats functions directly -- `text_stats.TextStats(doc).n_sents` => `text_stats.n_sents(doc)` --or set them as custom doc extensions and access them on the ``Doc`` -- `textacy.set_doc_extensions('text_stats'); doc._.n_sents` .\n",
      "  utils.deprecated(\n",
      "/opt/anaconda3/lib/python3.8/site-packages/textacy/text_stats/api.py:89: DeprecationWarning: The `TextStats` class is deprecated as of v0.12. Instead, call the stats functions directly -- `text_stats.TextStats(doc).n_sents` => `text_stats.n_sents(doc)` --or set them as custom doc extensions and access them on the ``Doc`` -- `textacy.set_doc_extensions('text_stats'); doc._.n_sents` .\n",
      "  utils.deprecated(\n",
      "/opt/anaconda3/lib/python3.8/site-packages/textacy/text_stats/api.py:89: DeprecationWarning: The `TextStats` class is deprecated as of v0.12. Instead, call the stats functions directly -- `text_stats.TextStats(doc).n_sents` => `text_stats.n_sents(doc)` --or set them as custom doc extensions and access them on the ``Doc`` -- `textacy.set_doc_extensions('text_stats'); doc._.n_sents` .\n",
      "  utils.deprecated(\n",
      "/opt/anaconda3/lib/python3.8/site-packages/textacy/text_stats/api.py:89: DeprecationWarning: The `TextStats` class is deprecated as of v0.12. Instead, call the stats functions directly -- `text_stats.TextStats(doc).n_sents` => `text_stats.n_sents(doc)` --or set them as custom doc extensions and access them on the ``Doc`` -- `textacy.set_doc_extensions('text_stats'); doc._.n_sents` .\n",
      "  utils.deprecated(\n",
      "/opt/anaconda3/lib/python3.8/site-packages/textacy/text_stats/api.py:89: DeprecationWarning: The `TextStats` class is deprecated as of v0.12. Instead, call the stats functions directly -- `text_stats.TextStats(doc).n_sents` => `text_stats.n_sents(doc)` --or set them as custom doc extensions and access them on the ``Doc`` -- `textacy.set_doc_extensions('text_stats'); doc._.n_sents` .\n",
      "  utils.deprecated(\n",
      "/opt/anaconda3/lib/python3.8/site-packages/textacy/text_stats/api.py:89: DeprecationWarning: The `TextStats` class is deprecated as of v0.12. Instead, call the stats functions directly -- `text_stats.TextStats(doc).n_sents` => `text_stats.n_sents(doc)` --or set them as custom doc extensions and access them on the ``Doc`` -- `textacy.set_doc_extensions('text_stats'); doc._.n_sents` .\n",
      "  utils.deprecated(\n",
      "/opt/anaconda3/lib/python3.8/site-packages/textacy/text_stats/api.py:89: DeprecationWarning: The `TextStats` class is deprecated as of v0.12. Instead, call the stats functions directly -- `text_stats.TextStats(doc).n_sents` => `text_stats.n_sents(doc)` --or set them as custom doc extensions and access them on the ``Doc`` -- `textacy.set_doc_extensions('text_stats'); doc._.n_sents` .\n",
      "  utils.deprecated(\n",
      "/opt/anaconda3/lib/python3.8/site-packages/textacy/text_stats/api.py:89: DeprecationWarning: The `TextStats` class is deprecated as of v0.12. Instead, call the stats functions directly -- `text_stats.TextStats(doc).n_sents` => `text_stats.n_sents(doc)` --or set them as custom doc extensions and access them on the ``Doc`` -- `textacy.set_doc_extensions('text_stats'); doc._.n_sents` .\n",
      "  utils.deprecated(\n",
      "/opt/anaconda3/lib/python3.8/site-packages/textacy/text_stats/api.py:89: DeprecationWarning: The `TextStats` class is deprecated as of v0.12. Instead, call the stats functions directly -- `text_stats.TextStats(doc).n_sents` => `text_stats.n_sents(doc)` --or set them as custom doc extensions and access them on the ``Doc`` -- `textacy.set_doc_extensions('text_stats'); doc._.n_sents` .\n",
      "  utils.deprecated(\n",
      "/opt/anaconda3/lib/python3.8/site-packages/textacy/text_stats/api.py:89: DeprecationWarning: The `TextStats` class is deprecated as of v0.12. Instead, call the stats functions directly -- `text_stats.TextStats(doc).n_sents` => `text_stats.n_sents(doc)` --or set them as custom doc extensions and access them on the ``Doc`` -- `textacy.set_doc_extensions('text_stats'); doc._.n_sents` .\n",
      "  utils.deprecated(\n",
      "/opt/anaconda3/lib/python3.8/site-packages/textacy/text_stats/api.py:89: DeprecationWarning: The `TextStats` class is deprecated as of v0.12. Instead, call the stats functions directly -- `text_stats.TextStats(doc).n_sents` => `text_stats.n_sents(doc)` --or set them as custom doc extensions and access them on the ``Doc`` -- `textacy.set_doc_extensions('text_stats'); doc._.n_sents` .\n",
      "  utils.deprecated(\n",
      "/opt/anaconda3/lib/python3.8/site-packages/textacy/text_stats/api.py:89: DeprecationWarning: The `TextStats` class is deprecated as of v0.12. Instead, call the stats functions directly -- `text_stats.TextStats(doc).n_sents` => `text_stats.n_sents(doc)` --or set them as custom doc extensions and access them on the ``Doc`` -- `textacy.set_doc_extensions('text_stats'); doc._.n_sents` .\n",
      "  utils.deprecated(\n",
      "/opt/anaconda3/lib/python3.8/site-packages/textacy/text_stats/api.py:89: DeprecationWarning: The `TextStats` class is deprecated as of v0.12. Instead, call the stats functions directly -- `text_stats.TextStats(doc).n_sents` => `text_stats.n_sents(doc)` --or set them as custom doc extensions and access them on the ``Doc`` -- `textacy.set_doc_extensions('text_stats'); doc._.n_sents` .\n",
      "  utils.deprecated(\n",
      "/opt/anaconda3/lib/python3.8/site-packages/textacy/text_stats/api.py:89: DeprecationWarning: The `TextStats` class is deprecated as of v0.12. Instead, call the stats functions directly -- `text_stats.TextStats(doc).n_sents` => `text_stats.n_sents(doc)` --or set them as custom doc extensions and access them on the ``Doc`` -- `textacy.set_doc_extensions('text_stats'); doc._.n_sents` .\n",
      "  utils.deprecated(\n",
      "/opt/anaconda3/lib/python3.8/site-packages/textacy/text_stats/api.py:89: DeprecationWarning: The `TextStats` class is deprecated as of v0.12. Instead, call the stats functions directly -- `text_stats.TextStats(doc).n_sents` => `text_stats.n_sents(doc)` --or set them as custom doc extensions and access them on the ``Doc`` -- `textacy.set_doc_extensions('text_stats'); doc._.n_sents` .\n",
      "  utils.deprecated(\n",
      "/opt/anaconda3/lib/python3.8/site-packages/textacy/text_stats/api.py:89: DeprecationWarning: The `TextStats` class is deprecated as of v0.12. Instead, call the stats functions directly -- `text_stats.TextStats(doc).n_sents` => `text_stats.n_sents(doc)` --or set them as custom doc extensions and access them on the ``Doc`` -- `textacy.set_doc_extensions('text_stats'); doc._.n_sents` .\n",
      "  utils.deprecated(\n",
      "/opt/anaconda3/lib/python3.8/site-packages/textacy/text_stats/api.py:89: DeprecationWarning: The `TextStats` class is deprecated as of v0.12. Instead, call the stats functions directly -- `text_stats.TextStats(doc).n_sents` => `text_stats.n_sents(doc)` --or set them as custom doc extensions and access them on the ``Doc`` -- `textacy.set_doc_extensions('text_stats'); doc._.n_sents` .\n",
      "  utils.deprecated(\n",
      "/opt/anaconda3/lib/python3.8/site-packages/textacy/text_stats/api.py:89: DeprecationWarning: The `TextStats` class is deprecated as of v0.12. Instead, call the stats functions directly -- `text_stats.TextStats(doc).n_sents` => `text_stats.n_sents(doc)` --or set them as custom doc extensions and access them on the ``Doc`` -- `textacy.set_doc_extensions('text_stats'); doc._.n_sents` .\n",
      "  utils.deprecated(\n",
      "/opt/anaconda3/lib/python3.8/site-packages/textacy/text_stats/api.py:89: DeprecationWarning: The `TextStats` class is deprecated as of v0.12. Instead, call the stats functions directly -- `text_stats.TextStats(doc).n_sents` => `text_stats.n_sents(doc)` --or set them as custom doc extensions and access them on the ``Doc`` -- `textacy.set_doc_extensions('text_stats'); doc._.n_sents` .\n",
      "  utils.deprecated(\n",
      "/opt/anaconda3/lib/python3.8/site-packages/textacy/text_stats/api.py:89: DeprecationWarning: The `TextStats` class is deprecated as of v0.12. Instead, call the stats functions directly -- `text_stats.TextStats(doc).n_sents` => `text_stats.n_sents(doc)` --or set them as custom doc extensions and access them on the ``Doc`` -- `textacy.set_doc_extensions('text_stats'); doc._.n_sents` .\n",
      "  utils.deprecated(\n",
      "/opt/anaconda3/lib/python3.8/site-packages/textacy/text_stats/api.py:89: DeprecationWarning: The `TextStats` class is deprecated as of v0.12. Instead, call the stats functions directly -- `text_stats.TextStats(doc).n_sents` => `text_stats.n_sents(doc)` --or set them as custom doc extensions and access them on the ``Doc`` -- `textacy.set_doc_extensions('text_stats'); doc._.n_sents` .\n",
      "  utils.deprecated(\n",
      "/opt/anaconda3/lib/python3.8/site-packages/textacy/text_stats/api.py:89: DeprecationWarning: The `TextStats` class is deprecated as of v0.12. Instead, call the stats functions directly -- `text_stats.TextStats(doc).n_sents` => `text_stats.n_sents(doc)` --or set them as custom doc extensions and access them on the ``Doc`` -- `textacy.set_doc_extensions('text_stats'); doc._.n_sents` .\n",
      "  utils.deprecated(\n",
      "/opt/anaconda3/lib/python3.8/site-packages/textacy/text_stats/api.py:89: DeprecationWarning: The `TextStats` class is deprecated as of v0.12. Instead, call the stats functions directly -- `text_stats.TextStats(doc).n_sents` => `text_stats.n_sents(doc)` --or set them as custom doc extensions and access them on the ``Doc`` -- `textacy.set_doc_extensions('text_stats'); doc._.n_sents` .\n",
      "  utils.deprecated(\n",
      "/opt/anaconda3/lib/python3.8/site-packages/textacy/text_stats/api.py:89: DeprecationWarning: The `TextStats` class is deprecated as of v0.12. Instead, call the stats functions directly -- `text_stats.TextStats(doc).n_sents` => `text_stats.n_sents(doc)` --or set them as custom doc extensions and access them on the ``Doc`` -- `textacy.set_doc_extensions('text_stats'); doc._.n_sents` .\n",
      "  utils.deprecated(\n"
     ]
    },
    {
     "name": "stderr",
     "output_type": "stream",
     "text": [
      "/opt/anaconda3/lib/python3.8/site-packages/textacy/text_stats/api.py:89: DeprecationWarning: The `TextStats` class is deprecated as of v0.12. Instead, call the stats functions directly -- `text_stats.TextStats(doc).n_sents` => `text_stats.n_sents(doc)` --or set them as custom doc extensions and access them on the ``Doc`` -- `textacy.set_doc_extensions('text_stats'); doc._.n_sents` .\n",
      "  utils.deprecated(\n",
      "/opt/anaconda3/lib/python3.8/site-packages/textacy/text_stats/api.py:89: DeprecationWarning: The `TextStats` class is deprecated as of v0.12. Instead, call the stats functions directly -- `text_stats.TextStats(doc).n_sents` => `text_stats.n_sents(doc)` --or set them as custom doc extensions and access them on the ``Doc`` -- `textacy.set_doc_extensions('text_stats'); doc._.n_sents` .\n",
      "  utils.deprecated(\n",
      "/opt/anaconda3/lib/python3.8/site-packages/textacy/text_stats/api.py:89: DeprecationWarning: The `TextStats` class is deprecated as of v0.12. Instead, call the stats functions directly -- `text_stats.TextStats(doc).n_sents` => `text_stats.n_sents(doc)` --or set them as custom doc extensions and access them on the ``Doc`` -- `textacy.set_doc_extensions('text_stats'); doc._.n_sents` .\n",
      "  utils.deprecated(\n",
      "/opt/anaconda3/lib/python3.8/site-packages/textacy/text_stats/api.py:89: DeprecationWarning: The `TextStats` class is deprecated as of v0.12. Instead, call the stats functions directly -- `text_stats.TextStats(doc).n_sents` => `text_stats.n_sents(doc)` --or set them as custom doc extensions and access them on the ``Doc`` -- `textacy.set_doc_extensions('text_stats'); doc._.n_sents` .\n",
      "  utils.deprecated(\n",
      "/opt/anaconda3/lib/python3.8/site-packages/textacy/text_stats/api.py:89: DeprecationWarning: The `TextStats` class is deprecated as of v0.12. Instead, call the stats functions directly -- `text_stats.TextStats(doc).n_sents` => `text_stats.n_sents(doc)` --or set them as custom doc extensions and access them on the ``Doc`` -- `textacy.set_doc_extensions('text_stats'); doc._.n_sents` .\n",
      "  utils.deprecated(\n",
      "/opt/anaconda3/lib/python3.8/site-packages/textacy/text_stats/api.py:89: DeprecationWarning: The `TextStats` class is deprecated as of v0.12. Instead, call the stats functions directly -- `text_stats.TextStats(doc).n_sents` => `text_stats.n_sents(doc)` --or set them as custom doc extensions and access them on the ``Doc`` -- `textacy.set_doc_extensions('text_stats'); doc._.n_sents` .\n",
      "  utils.deprecated(\n",
      "/opt/anaconda3/lib/python3.8/site-packages/textacy/text_stats/api.py:89: DeprecationWarning: The `TextStats` class is deprecated as of v0.12. Instead, call the stats functions directly -- `text_stats.TextStats(doc).n_sents` => `text_stats.n_sents(doc)` --or set them as custom doc extensions and access them on the ``Doc`` -- `textacy.set_doc_extensions('text_stats'); doc._.n_sents` .\n",
      "  utils.deprecated(\n",
      "/opt/anaconda3/lib/python3.8/site-packages/textacy/text_stats/api.py:89: DeprecationWarning: The `TextStats` class is deprecated as of v0.12. Instead, call the stats functions directly -- `text_stats.TextStats(doc).n_sents` => `text_stats.n_sents(doc)` --or set them as custom doc extensions and access them on the ``Doc`` -- `textacy.set_doc_extensions('text_stats'); doc._.n_sents` .\n",
      "  utils.deprecated(\n",
      "/opt/anaconda3/lib/python3.8/site-packages/textacy/text_stats/api.py:89: DeprecationWarning: The `TextStats` class is deprecated as of v0.12. Instead, call the stats functions directly -- `text_stats.TextStats(doc).n_sents` => `text_stats.n_sents(doc)` --or set them as custom doc extensions and access them on the ``Doc`` -- `textacy.set_doc_extensions('text_stats'); doc._.n_sents` .\n",
      "  utils.deprecated(\n",
      "/opt/anaconda3/lib/python3.8/site-packages/textacy/text_stats/api.py:89: DeprecationWarning: The `TextStats` class is deprecated as of v0.12. Instead, call the stats functions directly -- `text_stats.TextStats(doc).n_sents` => `text_stats.n_sents(doc)` --or set them as custom doc extensions and access them on the ``Doc`` -- `textacy.set_doc_extensions('text_stats'); doc._.n_sents` .\n",
      "  utils.deprecated(\n",
      "/opt/anaconda3/lib/python3.8/site-packages/textacy/text_stats/api.py:89: DeprecationWarning: The `TextStats` class is deprecated as of v0.12. Instead, call the stats functions directly -- `text_stats.TextStats(doc).n_sents` => `text_stats.n_sents(doc)` --or set them as custom doc extensions and access them on the ``Doc`` -- `textacy.set_doc_extensions('text_stats'); doc._.n_sents` .\n",
      "  utils.deprecated(\n",
      "/opt/anaconda3/lib/python3.8/site-packages/textacy/text_stats/api.py:89: DeprecationWarning: The `TextStats` class is deprecated as of v0.12. Instead, call the stats functions directly -- `text_stats.TextStats(doc).n_sents` => `text_stats.n_sents(doc)` --or set them as custom doc extensions and access them on the ``Doc`` -- `textacy.set_doc_extensions('text_stats'); doc._.n_sents` .\n",
      "  utils.deprecated(\n",
      "/opt/anaconda3/lib/python3.8/site-packages/textacy/text_stats/api.py:89: DeprecationWarning: The `TextStats` class is deprecated as of v0.12. Instead, call the stats functions directly -- `text_stats.TextStats(doc).n_sents` => `text_stats.n_sents(doc)` --or set them as custom doc extensions and access them on the ``Doc`` -- `textacy.set_doc_extensions('text_stats'); doc._.n_sents` .\n",
      "  utils.deprecated(\n",
      "/opt/anaconda3/lib/python3.8/site-packages/textacy/text_stats/api.py:89: DeprecationWarning: The `TextStats` class is deprecated as of v0.12. Instead, call the stats functions directly -- `text_stats.TextStats(doc).n_sents` => `text_stats.n_sents(doc)` --or set them as custom doc extensions and access them on the ``Doc`` -- `textacy.set_doc_extensions('text_stats'); doc._.n_sents` .\n",
      "  utils.deprecated(\n",
      "/opt/anaconda3/lib/python3.8/site-packages/textacy/text_stats/api.py:89: DeprecationWarning: The `TextStats` class is deprecated as of v0.12. Instead, call the stats functions directly -- `text_stats.TextStats(doc).n_sents` => `text_stats.n_sents(doc)` --or set them as custom doc extensions and access them on the ``Doc`` -- `textacy.set_doc_extensions('text_stats'); doc._.n_sents` .\n",
      "  utils.deprecated(\n",
      "/opt/anaconda3/lib/python3.8/site-packages/textacy/text_stats/api.py:89: DeprecationWarning: The `TextStats` class is deprecated as of v0.12. Instead, call the stats functions directly -- `text_stats.TextStats(doc).n_sents` => `text_stats.n_sents(doc)` --or set them as custom doc extensions and access them on the ``Doc`` -- `textacy.set_doc_extensions('text_stats'); doc._.n_sents` .\n",
      "  utils.deprecated(\n",
      "/opt/anaconda3/lib/python3.8/site-packages/textacy/text_stats/api.py:89: DeprecationWarning: The `TextStats` class is deprecated as of v0.12. Instead, call the stats functions directly -- `text_stats.TextStats(doc).n_sents` => `text_stats.n_sents(doc)` --or set them as custom doc extensions and access them on the ``Doc`` -- `textacy.set_doc_extensions('text_stats'); doc._.n_sents` .\n",
      "  utils.deprecated(\n",
      "/opt/anaconda3/lib/python3.8/site-packages/textacy/text_stats/api.py:89: DeprecationWarning: The `TextStats` class is deprecated as of v0.12. Instead, call the stats functions directly -- `text_stats.TextStats(doc).n_sents` => `text_stats.n_sents(doc)` --or set them as custom doc extensions and access them on the ``Doc`` -- `textacy.set_doc_extensions('text_stats'); doc._.n_sents` .\n",
      "  utils.deprecated(\n",
      "/opt/anaconda3/lib/python3.8/site-packages/textacy/text_stats/api.py:89: DeprecationWarning: The `TextStats` class is deprecated as of v0.12. Instead, call the stats functions directly -- `text_stats.TextStats(doc).n_sents` => `text_stats.n_sents(doc)` --or set them as custom doc extensions and access them on the ``Doc`` -- `textacy.set_doc_extensions('text_stats'); doc._.n_sents` .\n",
      "  utils.deprecated(\n",
      "/opt/anaconda3/lib/python3.8/site-packages/textacy/text_stats/api.py:89: DeprecationWarning: The `TextStats` class is deprecated as of v0.12. Instead, call the stats functions directly -- `text_stats.TextStats(doc).n_sents` => `text_stats.n_sents(doc)` --or set them as custom doc extensions and access them on the ``Doc`` -- `textacy.set_doc_extensions('text_stats'); doc._.n_sents` .\n",
      "  utils.deprecated(\n",
      "/opt/anaconda3/lib/python3.8/site-packages/textacy/text_stats/api.py:89: DeprecationWarning: The `TextStats` class is deprecated as of v0.12. Instead, call the stats functions directly -- `text_stats.TextStats(doc).n_sents` => `text_stats.n_sents(doc)` --or set them as custom doc extensions and access them on the ``Doc`` -- `textacy.set_doc_extensions('text_stats'); doc._.n_sents` .\n",
      "  utils.deprecated(\n",
      "/opt/anaconda3/lib/python3.8/site-packages/textacy/text_stats/api.py:89: DeprecationWarning: The `TextStats` class is deprecated as of v0.12. Instead, call the stats functions directly -- `text_stats.TextStats(doc).n_sents` => `text_stats.n_sents(doc)` --or set them as custom doc extensions and access them on the ``Doc`` -- `textacy.set_doc_extensions('text_stats'); doc._.n_sents` .\n",
      "  utils.deprecated(\n",
      "/opt/anaconda3/lib/python3.8/site-packages/textacy/text_stats/api.py:89: DeprecationWarning: The `TextStats` class is deprecated as of v0.12. Instead, call the stats functions directly -- `text_stats.TextStats(doc).n_sents` => `text_stats.n_sents(doc)` --or set them as custom doc extensions and access them on the ``Doc`` -- `textacy.set_doc_extensions('text_stats'); doc._.n_sents` .\n",
      "  utils.deprecated(\n",
      "/opt/anaconda3/lib/python3.8/site-packages/textacy/text_stats/api.py:89: DeprecationWarning: The `TextStats` class is deprecated as of v0.12. Instead, call the stats functions directly -- `text_stats.TextStats(doc).n_sents` => `text_stats.n_sents(doc)` --or set them as custom doc extensions and access them on the ``Doc`` -- `textacy.set_doc_extensions('text_stats'); doc._.n_sents` .\n",
      "  utils.deprecated(\n",
      "/opt/anaconda3/lib/python3.8/site-packages/textacy/text_stats/api.py:89: DeprecationWarning: The `TextStats` class is deprecated as of v0.12. Instead, call the stats functions directly -- `text_stats.TextStats(doc).n_sents` => `text_stats.n_sents(doc)` --or set them as custom doc extensions and access them on the ``Doc`` -- `textacy.set_doc_extensions('text_stats'); doc._.n_sents` .\n",
      "  utils.deprecated(\n",
      "/opt/anaconda3/lib/python3.8/site-packages/textacy/text_stats/api.py:89: DeprecationWarning: The `TextStats` class is deprecated as of v0.12. Instead, call the stats functions directly -- `text_stats.TextStats(doc).n_sents` => `text_stats.n_sents(doc)` --or set them as custom doc extensions and access them on the ``Doc`` -- `textacy.set_doc_extensions('text_stats'); doc._.n_sents` .\n",
      "  utils.deprecated(\n",
      "/opt/anaconda3/lib/python3.8/site-packages/textacy/text_stats/api.py:89: DeprecationWarning: The `TextStats` class is deprecated as of v0.12. Instead, call the stats functions directly -- `text_stats.TextStats(doc).n_sents` => `text_stats.n_sents(doc)` --or set them as custom doc extensions and access them on the ``Doc`` -- `textacy.set_doc_extensions('text_stats'); doc._.n_sents` .\n",
      "  utils.deprecated(\n",
      "/opt/anaconda3/lib/python3.8/site-packages/textacy/text_stats/api.py:89: DeprecationWarning: The `TextStats` class is deprecated as of v0.12. Instead, call the stats functions directly -- `text_stats.TextStats(doc).n_sents` => `text_stats.n_sents(doc)` --or set them as custom doc extensions and access them on the ``Doc`` -- `textacy.set_doc_extensions('text_stats'); doc._.n_sents` .\n",
      "  utils.deprecated(\n",
      "/opt/anaconda3/lib/python3.8/site-packages/textacy/text_stats/api.py:89: DeprecationWarning: The `TextStats` class is deprecated as of v0.12. Instead, call the stats functions directly -- `text_stats.TextStats(doc).n_sents` => `text_stats.n_sents(doc)` --or set them as custom doc extensions and access them on the ``Doc`` -- `textacy.set_doc_extensions('text_stats'); doc._.n_sents` .\n",
      "  utils.deprecated(\n",
      "/opt/anaconda3/lib/python3.8/site-packages/textacy/text_stats/api.py:89: DeprecationWarning: The `TextStats` class is deprecated as of v0.12. Instead, call the stats functions directly -- `text_stats.TextStats(doc).n_sents` => `text_stats.n_sents(doc)` --or set them as custom doc extensions and access them on the ``Doc`` -- `textacy.set_doc_extensions('text_stats'); doc._.n_sents` .\n",
      "  utils.deprecated(\n",
      "/opt/anaconda3/lib/python3.8/site-packages/textacy/text_stats/api.py:89: DeprecationWarning: The `TextStats` class is deprecated as of v0.12. Instead, call the stats functions directly -- `text_stats.TextStats(doc).n_sents` => `text_stats.n_sents(doc)` --or set them as custom doc extensions and access them on the ``Doc`` -- `textacy.set_doc_extensions('text_stats'); doc._.n_sents` .\n",
      "  utils.deprecated(\n",
      "/opt/anaconda3/lib/python3.8/site-packages/textacy/text_stats/api.py:89: DeprecationWarning: The `TextStats` class is deprecated as of v0.12. Instead, call the stats functions directly -- `text_stats.TextStats(doc).n_sents` => `text_stats.n_sents(doc)` --or set them as custom doc extensions and access them on the ``Doc`` -- `textacy.set_doc_extensions('text_stats'); doc._.n_sents` .\n",
      "  utils.deprecated(\n"
     ]
    },
    {
     "data": {
      "text/plain": [
       "'The Flesch Reading Ease computes a metric between 1 and 100, \\nwith 100 being the highest readability score. \\nScoring between 70 to 80 is equivalent to school grade level 8, \\nwhich is rather easy for normal adults to read.'"
      ]
     },
     "execution_count": 6,
     "metadata": {},
     "output_type": "execute_result"
    }
   ],
   "source": [
    "nlp = spacy.load(\"en_core_web_sm\")\n",
    "\n",
    "human_readabilities = []\n",
    "for curr_tweet in selected_humanmsg_df.tweets:\n",
    "    doc = textacy.make_spacy_doc(curr_tweet, lang=\"en_core_web_sm\")\n",
    "    readability_stats = TextStats(doc);\n",
    "    human_readabilities.append(readability_stats.readability(\"flesch-reading-ease\"));\n",
    "    \n",
    "\n",
    "bloom_readabilities = []\n",
    "for curr_tweet in selected_bloomgenmsg_df.tweets:\n",
    "    doc = textacy.make_spacy_doc(curr_tweet, lang=\"en_core_web_sm\")\n",
    "    readability_stats = TextStats(doc);\n",
    "    bloom_readabilities.append(readability_stats.readability(\"flesch-reading-ease\"));\n",
    "      \n",
    "'''The Flesch Reading Ease computes a metric between 1 and 100, \n",
    "with 100 being the highest readability score. \n",
    "Scoring between 70 to 80 is equivalent to school grade level 8, \n",
    "which is rather easy for normal adults to read.'''"
   ]
  },
  {
   "cell_type": "code",
   "execution_count": 7,
   "id": "a1596d0b",
   "metadata": {},
   "outputs": [
    {
     "name": "stdout",
     "output_type": "stream",
     "text": [
      "63.392824605459786\n",
      "17.86968809654912\n",
      "68.39270265669708\n",
      "20.36010214031216\n",
      "Ttest_indResult(statistic=-0.9939211838376466, pvalue=0.32438986053729046)\n"
     ]
    }
   ],
   "source": [
    "# can be done much better, like with a similar plot as for the human evaluation\n",
    "# also, there are other options for computing readability metric, word lenght, sentence complexity, etc etc.\n",
    "#plt.hist(human_readabilities)\n",
    "#plt.hist(bloom_readabilities)\n",
    "\n",
    "print(np.mean(human_readabilities))\n",
    "print(np.std(human_readabilities))\n",
    "\n",
    "print(np.mean(bloom_readabilities))\n",
    "print(np.std(bloom_readabilities))\n",
    "\n",
    "print(stats.ttest_ind(human_readabilities, bloom_readabilities))"
   ]
  },
  {
   "cell_type": "code",
   "execution_count": 8,
   "id": "51145242",
   "metadata": {},
   "outputs": [],
   "source": [
    "df = pd.DataFrame(np.vstack((human_readabilities, bloom_readabilities)).T, columns = ['human_ease', 'ai_ease'])\n",
    "df.to_csv('ease.csv')"
   ]
  },
  {
   "cell_type": "code",
   "execution_count": null,
   "id": "5d686c57",
   "metadata": {},
   "outputs": [],
   "source": []
  },
  {
   "cell_type": "code",
   "execution_count": null,
   "id": "f3b45cdb",
   "metadata": {},
   "outputs": [],
   "source": []
  },
  {
   "cell_type": "code",
   "execution_count": null,
   "id": "87da4c2d",
   "metadata": {},
   "outputs": [],
   "source": []
  },
  {
   "cell_type": "code",
   "execution_count": null,
   "id": "361bdaa9",
   "metadata": {},
   "outputs": [],
   "source": []
  }
 ],
 "metadata": {
  "kernelspec": {
   "display_name": "Python 3 (ipykernel)",
   "language": "python",
   "name": "python3"
  },
  "language_info": {
   "codemirror_mode": {
    "name": "ipython",
    "version": 3
   },
   "file_extension": ".py",
   "mimetype": "text/x-python",
   "name": "python",
   "nbconvert_exporter": "python",
   "pygments_lexer": "ipython3",
   "version": "3.8.8"
  }
 },
 "nbformat": 4,
 "nbformat_minor": 5
}
